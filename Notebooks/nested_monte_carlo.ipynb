{
 "cells": [
  {
   "cell_type": "markdown",
   "id": "f03a6ce9",
   "metadata": {},
   "source": [
    "# Nested Monte Carlo Estimation\n",
    "\n",
    "This notebook demonstrates how to perform Nested Monte Carlo (NMC) estimation in Python. Nested Monte Carlo is a technique used to approximate high-dimensional integrals or expectations that are difficult to compute analytically. It involves nested sampling, where the outer Monte Carlo samples from a distribution, and the inner Monte Carlo samples are used to approximate an expectation within each outer sample.\n"
   ]
  },
  {
   "cell_type": "markdown",
   "id": "7ede074b-4862-45a2-94a2-0a673aba085d",
   "metadata": {},
   "source": [
    "### Example Problem\n",
    "We will approximate the expectation of a function $f(\\mathbf{x})$ under a\n",
    "distribution $p(\\mathbf{x})$, where $f(\\mathbf{x})$ itself involves an\n",
    "expectation that is approximated using another Monte Carlo step."
   ]
  },
  {
   "cell_type": "code",
   "execution_count": 3,
   "id": "8a26dcca",
   "metadata": {},
   "outputs": [],
   "source": [
    "import numpy as np"
   ]
  },
  {
   "cell_type": "markdown",
   "id": "0ead979d",
   "metadata": {},
   "source": [
    "### Define the Nested Monte Carlo Function"
   ]
  },
  {
   "cell_type": "code",
   "execution_count": 6,
   "id": "e1752930",
   "metadata": {},
   "outputs": [],
   "source": [
    "def nested_monte_carlo(f, p, outer_samples=100, inner_samples=100):\n",
    "    \"\"\"\n",
    "    Perform Nested Monte Carlo estimation.\n",
    "\n",
    "    Parameters:\n",
    "    - f: function that takes a sample from the outer distribution and returns a scalar.\n",
    "         The function f may involve an inner expectation.\n",
    "    - p: function that samples from the outer distribution.\n",
    "    - outer_samples: number of outer Monte Carlo samples.\n",
    "    - inner_samples: number of inner Monte Carlo samples for approximating the inner expectation.\n",
    "\n",
    "    Returns:\n",
    "    - Estimate of the expectation of f under the distribution p.\n",
    "    \"\"\"\n",
    "    # Step 1: Outer Monte Carlo sampling\n",
    "    outer_samples_x = p(outer_samples)  # Sample from the outer distribution p\n",
    "\n",
    "    # Step 2: Inner Monte Carlo estimation for each outer sample\n",
    "    total_estimate = 0.0\n",
    "    for x in outer_samples_x:\n",
    "        # Approximate the inner expectation for each x\n",
    "        inner_expectation = np.mean([f(x, inner_sample) for inner_sample in p(inner_samples)])\n",
    "        total_estimate += inner_expectation\n",
    "\n",
    "    # Step 3: Average over all outer samples\n",
    "    return total_estimate / outer_samples"
   ]
  },
  {
   "cell_type": "markdown",
   "id": "d76050a1",
   "metadata": {},
   "source": [
    "### Define the Outer and Inner Distributions"
   ]
  },
  {
   "cell_type": "code",
   "execution_count": 9,
   "id": "7a30f584",
   "metadata": {},
   "outputs": [],
   "source": [
    "# Example: Define the outer and inner distributions\n",
    "def outer_distribution(n_samples):\n",
    "    \"\"\"Sample from the outer distribution (e.g., a standard normal).\"\"\"\n",
    "    return np.random.normal(0, 1, n_samples)\n",
    "\n",
    "def inner_distribution(n_samples):\n",
    "    \"\"\"Sample from the inner distribution (e.g., a uniform distribution).\"\"\"\n",
    "    return np.random.uniform(-1, 1, n_samples)"
   ]
  },
  {
   "cell_type": "markdown",
   "id": "b52b03b5",
   "metadata": {},
   "source": [
    "### Define the Function $f(x, y)$"
   ]
  },
  {
   "cell_type": "code",
   "execution_count": 12,
   "id": "62f3108c",
   "metadata": {},
   "outputs": [],
   "source": [
    "# Example: Define the function f(x) that involves an inner expectation\n",
    "def f(x, y):\n",
    "    \"\"\"\n",
    "    Example function f(x, y) where x is from the outer distribution and y is from the inner distribution.\n",
    "    \"\"\"\n",
    "    return np.sin(x * y)"
   ]
  },
  {
   "cell_type": "markdown",
   "id": "aeb5e3e4",
   "metadata": {},
   "source": [
    "### Perform Nested Monte Carlo Estimation"
   ]
  },
  {
   "cell_type": "code",
   "execution_count": 15,
   "id": "b71fe8cf",
   "metadata": {},
   "outputs": [
    {
     "name": "stdout",
     "output_type": "stream",
     "text": [
      "Nested Monte Carlo Estimate: 0.0002102939297268438\n"
     ]
    }
   ],
   "source": [
    "# Perform Nested Monte Carlo estimation\n",
    "outer_samples = 1000\n",
    "inner_samples = 100\n",
    "estimate = nested_monte_carlo(f, outer_distribution, outer_samples, inner_samples)\n",
    "\n",
    "print(f\"Nested Monte Carlo Estimate: {estimate}\")"
   ]
  },
  {
   "cell_type": "markdown",
   "id": "1967d80d",
   "metadata": {},
   "source": [
    "### Notes\n",
    "\n",
    "1. **Accuracy**: The accuracy of the Nested Monte Carlo estimate depends on the number of outer and inner samples. Increasing `outer_samples` and `inner_samples` will improve the accuracy but increase computation time.\n",
    "\n",
    "2. **Custom Distributions**: You can replace the `outer_distribution` and `inner_distribution` functions with any custom distributions you need.\n",
    "\n",
    "3. **Function Complexity**: The function $f(x, y)$ can be as complex as needed, as long as it can be evaluated for each pair of $(x, y)$."
   ]
  },
  {
   "cell_type": "code",
   "execution_count": null,
   "id": "4d0bcd91-bb74-496f-98a4-206e4c39ce46",
   "metadata": {},
   "outputs": [],
   "source": []
  }
 ],
 "metadata": {
  "kernelspec": {
   "display_name": "Python 3 (ipykernel)",
   "language": "python",
   "name": "python3"
  },
  "language_info": {
   "codemirror_mode": {
    "name": "ipython",
    "version": 3
   },
   "file_extension": ".py",
   "mimetype": "text/x-python",
   "name": "python",
   "nbconvert_exporter": "python",
   "pygments_lexer": "ipython3",
   "version": "3.11.7"
  }
 },
 "nbformat": 4,
 "nbformat_minor": 5
}
